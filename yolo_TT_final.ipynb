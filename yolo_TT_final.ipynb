{
 "cells": [
  {
   "cell_type": "code",
   "execution_count": 2,
   "id": "5864ab10",
   "metadata": {},
   "outputs": [],
   "source": [
    "# import packages\n",
    "\n",
    "import cv2\n",
    "import numpy as np\n",
    "import glob\n",
    "import random\n",
    "import matplotlib.pyplot as plt\n",
    "import cvxpy \n",
    "import numpy as np\n",
    "from scipy import linalg\n",
    "import math"
   ]
  },
  {
   "cell_type": "code",
   "execution_count": 3,
   "id": "5d567906",
   "metadata": {},
   "outputs": [],
   "source": [
    "# constants for spin detection \n",
    "\n",
    "rho = 1.29\n",
    "C_M = 0.6\n",
    "C_D = 0.4\n",
    "r = 0.02\n",
    "g = 9.81\n",
    "m = 2.7\n",
    "A = math.pi * r**2\n",
    "time_step = 1/60\n",
    "p = 2.7432/1120\n",
    "k_M = 0.5 * C_M * rho * A * r\n",
    "k_D = -0.5 * C_D * rho"
   ]
  },
  {
   "cell_type": "code",
   "execution_count": 6,
   "id": "3a2ef628",
   "metadata": {},
   "outputs": [],
   "source": [
    "# initialize network and read in images. note that the weights for the code is included in repo\n",
    "net = cv2.dnn.readNet(\"yolov3_training_last.weights\", \"yolov3_testing.cfg\")\n",
    "classes = [\"object\"]\n",
    "layer_names = net.getLayerNames()\n",
    "output_layers = [layer_names[i[0] - 1] for i in net.getUnconnectedOutLayers()]\n",
    "\n",
    "# ensure that the file 'frames' is populated with images directly imported from vidToImgs.ipynb\n",
    "images_path = glob.glob(r\".\\val\\*.jpg\")\n",
    "sorted_img = sorted(images_path, key = lambda x: int(x.split(\"\\\\\")[-1].strip(\".jpg\")))\n",
    "x_axis =[]\n",
    "y_axis=[]"
   ]
  },
  {
   "cell_type": "code",
   "execution_count": 11,
   "id": "425814f2",
   "metadata": {
    "scrolled": false
   },
   "outputs": [
    {
     "data": {
      "image/png": "[encoded data removed]",
      "text/plain": [
       "<Figure size 432x288 with 1 Axes>"
      ]
     },
     "metadata": {
      "needs_background": "light"
     },
     "output_type": "display_data"
    }
   ],
   "source": [
    "# loop CNN through images\n",
    "\n",
    "count = 0\n",
    "for img_path in sorted_img:\n",
    "    # Loading image\n",
    "    img = cv2.imread(img_path)\n",
    "#     img = cv2.resize(img, None, fx=0.4, fy=0.4)\n",
    "    height, width, channels = img.shape\n",
    "\n",
    "    # Detecting objects\n",
    "    blob = cv2.dnn.blobFromImage(img, 0.00392, (416,416), (0, 0, 0), True, crop=False)\n",
    "\n",
    "    net.setInput(blob)\n",
    "    outs = net.forward(output_layers)\n",
    "    # Showing informations on the screen\n",
    "    preds = np.concatenate(outs,axis=0)\n",
    "    bestPred = np.argmax(preds[:,5])\n",
    "    detection = preds[bestPred]\n",
    "    confidence = detection[5]\n",
    "    \n",
    "    if confidence > 0.3:\n",
    "        centre_x = int(detection[0] * width)\n",
    "        centre_y = int(detection[1] * height)\n",
    "        w = int(detection[2] * width)\n",
    "        h = int(detection[3] * height)\n",
    "        x = int(centre_x - w / 2)\n",
    "        y = int(centre_y - h / 2)\n",
    "        x_axis.append(x)\n",
    "        y_axis.append(height-y)\n",
    "        cv2.rectangle(img, (x, y), (x + w, y + h), (0,0,0), 2)\n",
    "        font = cv2.FONT_HERSHEY_PLAIN\n",
    "        cv2.putText(img, 'Ball', (x, y), font, 1, (0,0,0), 2)\n",
    "    \n",
    "    # display results\n",
    "    cv2.imshow(\"Image\", img)\n",
    "    cv2.imwrite(\"./detected2/%d.jpg\" % count, img)  \n",
    "    count +=1\n",
    "    key = cv2.waitKey(1)\n",
    "\n",
    "# print plot. note that the plat is x vs. y in units of PIXELS. to convert to x vs. time, \n",
    "# appropriate modifications must be made. \n",
    "plt.plot(x_axis, y_axis,'bo')\n",
    "plt.savefig('plo.jpg')\n",
    "cv2.destroyAllWindows()   "
   ]
  },
  {
   "cell_type": "code",
   "execution_count": null,
   "id": "4fed962d",
   "metadata": {},
   "outputs": [],
   "source": [
    "# We're missing a cruical step: Using the function above to extract the 3d coordinates of the ball.\n",
    "# The code below can be run if there are valid arrays x_axis, y_axis, and z_axis, which describe the \n",
    "# ball's position with respect to time. The code above only produces a 2d projection with axes in \n",
    "# pixels. A coordinate transformation is needed, but time ran out for the project. To whoever's reading\n",
    "# this, pls figure it out and contact us!"
   ]
  },
  {
   "cell_type": "code",
   "execution_count": 9,
   "id": "4fbbf105",
   "metadata": {},
   "outputs": [
    {
     "name": "stdout",
     "output_type": "stream",
     "text": [
      "Ball is spinning in the direction of [ 4.80489623e+06  5.58332166e+09 -2.92713315e+06]\n"
     ]
    }
   ],
   "source": [
    "# produces a least-squares cubic fit for 3D position of ball\n",
    "def cubicRegress(coords, time_step):\n",
    "    times = np.zeros(len(coords))\n",
    "    for i in range(len(times)):\n",
    "        times[i] = i * time_step\n",
    "    return np.polyfit(coords, times, 3)\n",
    "\n",
    "# gets three polynomaials and their first and second derivatives \n",
    "x_poly = cubicRegress(x_axis, time_step)  \n",
    "x_prime = np.array([3*x_poly[0],2*x_poly[1],x_poly[2]])\n",
    "x_dblprime = np.array([2*x_prime[0],x_prime[1]])\n",
    "\n",
    "y_poly = cubicRegress(y_axis, time_step)  \n",
    "y_prime = np.array([3*y_poly[0],2*y_poly[1],y_poly[2]])\n",
    "y_dblprime = np.array([2*y_prime[0],y_prime[1]])\n",
    "\n",
    "z_poly = cubicRegress(z_axis, time_step)  \n",
    "z_prime = np.array([3*z_poly[0],2*z_poly[1],z_poly[2]])\n",
    "z_dblprime = np.array([2*z_prime[0],z_prime[1]])\n",
    "\n",
    "# begin building matrix and vector for solution \n",
    "def buildMatrix (t):\n",
    "    dx = 0 \n",
    "    dy = 0\n",
    "    dz= 0 \n",
    "    for i in range(len(x_prime)):\n",
    "        dx += x_prime[i]* t**(2-i)\n",
    "        dy += y_prime[i]* t**(2-i)\n",
    "        dz += z_prime[i]* t**(2-i)\n",
    "    a = dx* k_M/m\n",
    "    b = dy* k_M/m  \n",
    "    c = dz* k_M/m\n",
    "    return np.array([[0,c,-b],[-c,0,a],[b,-a,0]])\n",
    "\n",
    "def buildAcceleration (t):\n",
    "    dx = 0 \n",
    "    dy = 0\n",
    "    dz = 0 \n",
    "    for i in range(len(x_prime)):\n",
    "        dx += x_prime[i]* t**(2-i)\n",
    "        dy += y_prime[i]* t**(2-i)\n",
    "        dz += z_prime[i]* t**(2-i)\n",
    "    dx2 = 0 \n",
    "    dy2 = 0\n",
    "    dz2 = 0 \n",
    "    for i in range(len(x_dblprime)):\n",
    "        dx2 += x_dblprime[i]*t**(1-i)\n",
    "        dy2 += y_dblprime[i]*t**(1-i)\n",
    "        dz2 += z_dblprime[i]*t**(1-i)\n",
    "    norm = math.sqrt(dx**2+dy**2+dz**2)\n",
    "    a = dx2+ (norm *k_D * dx)/m\n",
    "    b = dy2+ (norm *k_D * dy)/m\n",
    "    c = dz2+ (norm *k_D * dz)/m - g\n",
    "    return np.array([a,b,c])\n",
    "\n",
    "times = np.zeros(len(x_axis))\n",
    "for i in range(len(times)):\n",
    "    times[i] = i * time_step\n",
    "\n",
    "# solve linear equation and return rotation vector\n",
    "def solveOmega():\n",
    "    M = buildMatrix(0)\n",
    "    acc = buildAcceleration(0)\n",
    "    for i in range(1, len(times)):\n",
    "        t = time_step * i\n",
    "        M = np.concatenate((M,buildMatrix(t)),axis=0)\n",
    "        acc = np.concatenate((acc,buildAcceleration(t)),axis=0)\n",
    "    omega = np.linalg.solve(M.T@M, M.T@acc)\n",
    "    print('Ball is spinning in the direction of ' + str(omega)) \n",
    "\n",
    "solveOmega()"
   ]
  }
 ],
 "metadata": {
  "kernelspec": {
   "display_name": "Python [conda env:ballEnv] *",
   "language": "python",
   "name": "conda-env-ballEnv-py"
  },
  "language_info": {
   "codemirror_mode": {
    "name": "ipython",
    "version": 3
   },
   "file_extension": ".py",
   "mimetype": "text/x-python",
   "name": "python",
   "nbconvert_exporter": "python",
   "pygments_lexer": "ipython3",
   "version": "3.8.8"
  }
 },
 "nbformat": 4,
 "nbformat_minor": 5
}
