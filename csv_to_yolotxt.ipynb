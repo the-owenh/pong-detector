{
 "cells": [
  {
   "cell_type": "code",
   "execution_count": 1,
   "metadata": {},
   "outputs": [],
   "source": [
    "import pandas \n",
    "import math"
   ]
  },
  {
   "cell_type": "code",
   "execution_count": 3,
   "metadata": {},
   "outputs": [],
   "source": [
    "def toYolo (filename):\n",
    "    data = pandas.read_csv(filename, header=None)\n",
    "    \n",
    "    for i in range(len(data)):\n",
    "        name = data.iat[i,5].split('.')[0]\n",
    "        path = './images/' + name + '.txt'\n",
    "        file = open(path, 'w')\n",
    "        xmin = data.iat[i,1]\n",
    "        ymin = data.iat[i,2]\n",
    "        xmax = data.iat[i,3] + xmin\n",
    "        ymax = data.iat[i,4] + ymin\n",
    "        width = data.iat[i,6]\n",
    "        height = data.iat[i,7]\n",
    "        x_cen = (data.iat[i,1] + (data.iat[i,3])/2) / width\n",
    "        y_cen= (data.iat[i,2] + (data.iat[i,4])/2) / height\n",
    "        box_w= data.iat[i,3]/width\n",
    "        box_h= data.iat[i,4]/height\n",
    "        pic = \"0 \" + str(x_cen)+ \" \"+ str(y_cen)+ \" \"+ str(box_w) + \" \"+ str(box_h) \n",
    "        file.write(pic)\n",
    "        file.close()\n",
    "\n",
    "# insert the name of your .csv file here \n",
    "toYolo(\"./INSERT FILENAME HERE.csv\")"
   ]
  },
  {
   "cell_type": "code",
   "execution_count": null,
   "metadata": {},
   "outputs": [],
   "source": []
  },
  {
   "cell_type": "code",
   "execution_count": null,
   "metadata": {},
   "outputs": [],
   "source": []
  }
 ],
 "metadata": {
  "kernelspec": {
   "display_name": "newenvt",
   "language": "python",
   "name": "newenvt"
  },
  "language_info": {
   "codemirror_mode": {
    "name": "ipython",
    "version": 3
   },
   "file_extension": ".py",
   "mimetype": "text/x-python",
   "name": "python",
   "nbconvert_exporter": "python",
   "pygments_lexer": "ipython3",
   "version": "3.5.5"
  }
 },
 "nbformat": 4,
 "nbformat_minor": 2
}
