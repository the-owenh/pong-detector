{
 "cells": [
  {
   "cell_type": "code",
   "execution_count": 1,
   "id": "ab007fb5",
   "metadata": {},
   "outputs": [],
   "source": [
    "import cv2\n",
    "# make sure keep the video in the same folder as this program and insert the name below. \n",
    "\n",
    "vidcap = cv2.VideoCapture('./INSERT NAME OF FILE HERE')\n",
    "success,image = vidcap.read()\n",
    "count = 0\n",
    "\n",
    "while success:\n",
    "    # the second time around, change the \"images\" in the file name below to \"val\"\n",
    "    cv2.imwrite(\"./images/%d.jpg\" % count, image)     # save frame as JPEG file      \n",
    "    success,image = vidcap.read()\n",
    "    count += 1\n"
   ]
  },
  {
   "cell_type": "code",
   "execution_count": null,
   "id": "0c57a7b5",
   "metadata": {},
   "outputs": [],
   "source": []
  },
  {
   "cell_type": "code",
   "execution_count": null,
   "id": "07e95a47",
   "metadata": {},
   "outputs": [],
   "source": []
  }
 ],
 "metadata": {
  "kernelspec": {
   "display_name": "Python [conda env:ballEnv] *",
   "language": "python",
   "name": "conda-env-ballEnv-py"
  },
  "language_info": {
   "codemirror_mode": {
    "name": "ipython",
    "version": 3
   },
   "file_extension": ".py",
   "mimetype": "text/x-python",
   "name": "python",
   "nbconvert_exporter": "python",
   "pygments_lexer": "ipython3",
   "version": "3.8.8"
  }
 },
 "nbformat": 4,
 "nbformat_minor": 5
}
